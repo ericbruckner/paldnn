{
 "cells": [
  {
   "cell_type": "markdown",
   "metadata": {},
   "source": [
    "## Import necessary libraries"
   ]
  },
  {
   "cell_type": "code",
   "execution_count": 1,
   "metadata": {},
   "outputs": [
    {
     "name": "stderr",
     "output_type": "stream",
     "text": [
      "C:\\Users\\ericp\\anaconda3\\lib\\site-packages\\tensorflow\\python\\framework\\dtypes.py:516: FutureWarning: Passing (type, 1) or '1type' as a synonym of type is deprecated; in a future version of numpy, it will be understood as (type, (1,)) / '(1,)type'.\n",
      "  _np_qint8 = np.dtype([(\"qint8\", np.int8, 1)])\n",
      "C:\\Users\\ericp\\anaconda3\\lib\\site-packages\\tensorflow\\python\\framework\\dtypes.py:517: FutureWarning: Passing (type, 1) or '1type' as a synonym of type is deprecated; in a future version of numpy, it will be understood as (type, (1,)) / '(1,)type'.\n",
      "  _np_quint8 = np.dtype([(\"quint8\", np.uint8, 1)])\n",
      "C:\\Users\\ericp\\anaconda3\\lib\\site-packages\\tensorflow\\python\\framework\\dtypes.py:518: FutureWarning: Passing (type, 1) or '1type' as a synonym of type is deprecated; in a future version of numpy, it will be understood as (type, (1,)) / '(1,)type'.\n",
      "  _np_qint16 = np.dtype([(\"qint16\", np.int16, 1)])\n",
      "C:\\Users\\ericp\\anaconda3\\lib\\site-packages\\tensorflow\\python\\framework\\dtypes.py:519: FutureWarning: Passing (type, 1) or '1type' as a synonym of type is deprecated; in a future version of numpy, it will be understood as (type, (1,)) / '(1,)type'.\n",
      "  _np_quint16 = np.dtype([(\"quint16\", np.uint16, 1)])\n",
      "C:\\Users\\ericp\\anaconda3\\lib\\site-packages\\tensorflow\\python\\framework\\dtypes.py:520: FutureWarning: Passing (type, 1) or '1type' as a synonym of type is deprecated; in a future version of numpy, it will be understood as (type, (1,)) / '(1,)type'.\n",
      "  _np_qint32 = np.dtype([(\"qint32\", np.int32, 1)])\n",
      "C:\\Users\\ericp\\anaconda3\\lib\\site-packages\\tensorflow\\python\\framework\\dtypes.py:525: FutureWarning: Passing (type, 1) or '1type' as a synonym of type is deprecated; in a future version of numpy, it will be understood as (type, (1,)) / '(1,)type'.\n",
      "  np_resource = np.dtype([(\"resource\", np.ubyte, 1)])\n",
      "C:\\Users\\ericp\\anaconda3\\lib\\site-packages\\tensorboard\\compat\\tensorflow_stub\\dtypes.py:541: FutureWarning: Passing (type, 1) or '1type' as a synonym of type is deprecated; in a future version of numpy, it will be understood as (type, (1,)) / '(1,)type'.\n",
      "  _np_qint8 = np.dtype([(\"qint8\", np.int8, 1)])\n",
      "C:\\Users\\ericp\\anaconda3\\lib\\site-packages\\tensorboard\\compat\\tensorflow_stub\\dtypes.py:542: FutureWarning: Passing (type, 1) or '1type' as a synonym of type is deprecated; in a future version of numpy, it will be understood as (type, (1,)) / '(1,)type'.\n",
      "  _np_quint8 = np.dtype([(\"quint8\", np.uint8, 1)])\n",
      "C:\\Users\\ericp\\anaconda3\\lib\\site-packages\\tensorboard\\compat\\tensorflow_stub\\dtypes.py:543: FutureWarning: Passing (type, 1) or '1type' as a synonym of type is deprecated; in a future version of numpy, it will be understood as (type, (1,)) / '(1,)type'.\n",
      "  _np_qint16 = np.dtype([(\"qint16\", np.int16, 1)])\n",
      "C:\\Users\\ericp\\anaconda3\\lib\\site-packages\\tensorboard\\compat\\tensorflow_stub\\dtypes.py:544: FutureWarning: Passing (type, 1) or '1type' as a synonym of type is deprecated; in a future version of numpy, it will be understood as (type, (1,)) / '(1,)type'.\n",
      "  _np_quint16 = np.dtype([(\"quint16\", np.uint16, 1)])\n",
      "C:\\Users\\ericp\\anaconda3\\lib\\site-packages\\tensorboard\\compat\\tensorflow_stub\\dtypes.py:545: FutureWarning: Passing (type, 1) or '1type' as a synonym of type is deprecated; in a future version of numpy, it will be understood as (type, (1,)) / '(1,)type'.\n",
      "  _np_qint32 = np.dtype([(\"qint32\", np.int32, 1)])\n",
      "C:\\Users\\ericp\\anaconda3\\lib\\site-packages\\tensorboard\\compat\\tensorflow_stub\\dtypes.py:550: FutureWarning: Passing (type, 1) or '1type' as a synonym of type is deprecated; in a future version of numpy, it will be understood as (type, (1,)) / '(1,)type'.\n",
      "  np_resource = np.dtype([(\"resource\", np.ubyte, 1)])\n",
      "Using TensorFlow backend.\n"
     ]
    }
   ],
   "source": [
    "from paldnn import main\n",
    "import pandas as pd\n",
    "import numpy as np\n",
    "import matplotlib as mpl\n",
    "import matplotlib.pyplot as plt\n",
    "\n",
    "from keras.utils.np_utils import to_categorical\n",
    "from keras.models import Sequential\n",
    "from keras.layers import Dense\n",
    "from keras.layers import Dropout\n",
    "from keras import optimizers\n",
    "from keras import callbacks\n",
    "from keras import regularizers\n",
    "from keras.constraints import maxnorm\n",
    "from tensorflow.keras.models import load_model\n",
    "\n",
    "from sklearn.ensemble import RandomForestClassifier\n",
    "from sklearn.preprocessing import StandardScaler\n",
    "from sklearn.preprocessing import MinMaxScaler\n",
    "from sklearn.feature_selection import VarianceThreshold\n",
    "from sklearn.model_selection import train_test_split\n",
    "from sklearn.model_selection import ParameterGrid\n",
    "from sklearn.metrics import accuracy_score"
   ]
  },
  {
   "cell_type": "markdown",
   "metadata": {},
   "source": [
    "## Load PA dataset as dataframe"
   ]
  },
  {
   "cell_type": "code",
   "execution_count": 3,
   "metadata": {},
   "outputs": [],
   "source": [
    "# Load Dataset\n",
    "pa_dataset = pd.read_csv('PA_Dataset.csv')\n",
    "\n",
    "# Sample a subset of the dataset to speed up example\n",
    "pa_subset = pa_dataset.sample(160)"
   ]
  },
  {
   "cell_type": "markdown",
   "metadata": {},
   "source": [
    "## Extract PA structure from the database\n"
   ]
  },
  {
   "cell_type": "code",
   "execution_count": 4,
   "metadata": {},
   "outputs": [],
   "source": [
    "peptides = [p.strip(' ') for p in pa_subset['Pep Seq']]\n",
    "Nterm = pa_subset['N-Term SMILES']\n",
    "Cterm = pa_subset['C-Term SMILES']\n",
    "pHs = pa_subset['pH']"
   ]
  },
  {
   "cell_type": "markdown",
   "metadata": {},
   "source": [
    "## Calculate Molecular Descriptors"
   ]
  },
  {
   "cell_type": "code",
   "execution_count": 5,
   "metadata": {},
   "outputs": [],
   "source": [
    "#### Calculated Hydrophobicity Gradient descriptors\n",
    "degree = 1 # degree parameter for the HydrophobicityGradients, see documentation for details\n",
    "data = []\n",
    "for peptide,pH,Nterm_SMILES,Cterm_SMILES in zip(peptides,pHs,Nterm,Cterm):\n",
    "    [col_labels, col_val] = main.HydrophobicityGradients(peptide, Nterm_SMILES, Cterm_SMILES, pH, degree)\n",
    "    data.append(col_val)\n",
    "df_HG = pd.DataFrame(np.array(data))\n",
    "df_HG.columns = col_labels\n",
    "\n",
    "#### Calculate Charge Descriptors\n",
    "order = 1 # order of autocorrelation functions\n",
    "data = []\n",
    "for peptide,pH in zip(peptides,pHs):\n",
    "    [col_labels, col_val] = main.ChargeDescriptors(peptide, pH, order)\n",
    "    data.append(col_val)\n",
    "df_charge = pd.DataFrame(np.array(data))\n",
    "df_charge.columns = col_labels\n",
    "\n",
    "#### Calculate Hydrophobicity Descriptors\n",
    "order = 1 # order of autocorrelation functions\n",
    "data = []\n",
    "for peptide,pH in zip(peptides,pHs):\n",
    "    [col_labels, col_val] = main.HydrophobicityDescriptors(peptide, pH, order)\n",
    "    data.append(col_val)\n",
    "df_HD = pd.DataFrame(np.array(data))\n",
    "df_HD.columns = col_labels\n",
    "\n",
    "#### Calculate Peptide Descriptors from AAindex\n",
    "aaindex_dict = main.LoadAAindexDict() # load aaindex parameters from DOI: 10.1093/nar/gkm998\n",
    "order = 1 # order of autocorrelation functions\n",
    "data = []\n",
    "for peptide in peptides:\n",
    "    [col_labels, col_val] = main.PeptideDescriptors(peptide, order, aaindex_dict)\n",
    "    data.append(col_val)\n",
    "df_PD = pd.DataFrame(np.array(data))\n",
    "df_PD.columns = col_labels\n",
    "\n",
    "df = pd.concat([df_HG,df_charge,df_HD,df_PD],axis = 1)\n",
    "df.to_csv('PA_Dataset_Descriptors.csv', index = False)   "
   ]
  },
  {
   "cell_type": "markdown",
   "metadata": {},
   "source": [
    "## Feature Selection \n"
   ]
  },
  {
   "cell_type": "code",
   "execution_count": 15,
   "metadata": {},
   "outputs": [],
   "source": [
    "X = pd.read_csv('PA_Dataset_Descriptors.csv')\n",
    "y = to_categorical(pa_subset['Nano Dimension'])\n",
    "\n",
    "# Remove missing features\n",
    "X_clean = X.dropna(axis = 1)\n",
    "\n",
    "# Apply Low Variance Filter\n",
    "def variance_threshold_selector(data, threshold=0):\n",
    "    selector = VarianceThreshold(threshold)\n",
    "    selector.fit(data)\n",
    "    return data[data.columns[selector.get_support(indices=True)]]\n",
    "\n",
    "X_filtered = variance_threshold_selector(X_clean)"
   ]
  },
  {
   "cell_type": "code",
   "execution_count": 16,
   "metadata": {},
   "outputs": [],
   "source": [
    "# Remove Highly Correlated Features\n",
    "cor_matrix = X_filtered.corr().abs()\n",
    "upper_tri = cor_matrix.where(np.triu(np.ones(cor_matrix.shape),k=1).astype(np.bool))\n",
    "to_drop = [column for column in upper_tri.columns if any(upper_tri[column] > 0.95)]\n",
    "X_uncorr = X_filtered.drop(to_drop, axis=1)"
   ]
  },
  {
   "cell_type": "code",
   "execution_count": 17,
   "metadata": {},
   "outputs": [],
   "source": [
    "# Rank most important features determined by random forest\n",
    "n_forests = 3\n",
    "f = pd.DataFrame(columns = X_uncorr.columns)\n",
    "\n",
    "for n in range(n_forests):\n",
    "    #Create Train and Test Set\n",
    "    X_train, X_test, y_train, y_test = train_test_split(X_uncorr, y, test_size=0.20)\n",
    "\n",
    "    #Train Model\n",
    "    classifier = RandomForestClassifier(n_estimators = 2000, max_depth = 30, max_features = 10)\n",
    "    classifier.fit(X_train, y_train)\n",
    "\n",
    "    #Rank Features by Importance\n",
    "    importances = classifier.feature_importances_\n",
    "    std = np.std([tree.feature_importances_ for tree in classifier.estimators_], axis=0)\n",
    "    indices = np.argsort(importances)[::-1]\n",
    "    labels = list(X_train)\n",
    "    \n",
    "    #Save Features\n",
    "    f = f.append(pd.DataFrame([importances], columns = labels), ignore_index = True)\n",
    "\n",
    "# Save Top Features\n",
    "scores =  f.sum(axis = 0)\n",
    "index = scores.index\n",
    "order = np.argsort(scores.values)[::-1]\n",
    "\n",
    "selected_features = [index[i] for i in order]\n",
    "\n",
    "df = pd.DataFrame(selected_features)\n",
    "df.columns = ['features']\n",
    "df.to_csv('PA_Dataset_ranked_features.csv',index = False)"
   ]
  },
  {
   "cell_type": "code",
   "execution_count": 18,
   "metadata": {},
   "outputs": [],
   "source": [
    "# Select the top ranked features and scale them\n",
    "num_features = 16 \n",
    "df = pd.read_csv('PA_Dataset_ranked_features.csv')\n",
    "selected_features_df = df.iloc[0:num_features]\n",
    "selected_features = list(selected_features_df['features'])\n",
    "X_red = X[selected_features]\n",
    "\n",
    "scaler = StandardScaler()\n",
    "scaler.fit(X_red);\n",
    "X_scaled = pd.DataFrame(scaler.transform(X_red), columns = X_red.columns)"
   ]
  },
  {
   "cell_type": "markdown",
   "metadata": {},
   "source": [
    "## Build Deep Neural Network Model"
   ]
  },
  {
   "cell_type": "code",
   "execution_count": 19,
   "metadata": {},
   "outputs": [],
   "source": [
    "# Define Model\n",
    "def DNN_model(x_train, y_train, x_val, y_val, params):\n",
    "\n",
    "    #Sequential Model \n",
    "    model = Sequential()\n",
    "    model.add(Dense(params['layer 1 nodes'], activation= params['layer 1 activation'],kernel_constraint=maxnorm(params['maxnorm']), input_shape=(x_train.shape[1],)))\n",
    "    model.add(Dropout(params['dropout']))\n",
    "    model.add(Dense(params['layer 2 nodes'], activation=params['layer 2 activation'],kernel_constraint=maxnorm(params['maxnorm'])))\n",
    "    model.add(Dropout(params['dropout']))\n",
    "    model.add(Dense(2,activation=params['output activation'])) \n",
    "    \n",
    "    optimizer = optimizers.Adam(learning_rate = params['lr'])\n",
    "    model.compile(optimizer=optimizer,loss='categorical_crossentropy', metrics=['accuracy'])\n",
    "   \n",
    "    es_callback = callbacks.EarlyStopping(monitor='val_loss', patience=params['patience'])\n",
    "    history = model.fit(x_train, y_train, \n",
    "                        validation_data=[x_val, y_val],\n",
    "                        batch_size=params['batch_size'],\n",
    "                        epochs=params['epochs'],\n",
    "                        callbacks=[es_callback],\n",
    "                        verbose=0)\n",
    "    \n",
    "    return history, model\n"
   ]
  },
  {
   "cell_type": "markdown",
   "metadata": {},
   "source": [
    "## Automated Hyperparameter Tuning"
   ]
  },
  {
   "cell_type": "code",
   "execution_count": 20,
   "metadata": {},
   "outputs": [],
   "source": [
    "# Create param_grid\n",
    "p = {'layer 1 nodes' : [8, 16],\n",
    "          'layer 1 activation': ['relu'],\n",
    "          'layer 2 nodes': [8, 16],\n",
    "          'layer 2 activation': ['relu'],\n",
    "          'output activation': ['sigmoid'],\n",
    "          'dropout': [0.2],\n",
    "          'maxnorm': [3],\n",
    "          'lr': [0.001, 0.01],\n",
    "          'patience': [32],\n",
    "          'batch_size': [32],\n",
    "          'epochs': [500]}\n",
    "\n",
    "param_grid = list(ParameterGrid(p))"
   ]
  },
  {
   "cell_type": "code",
   "execution_count": 21,
   "metadata": {},
   "outputs": [
    {
     "name": "stdout",
     "output_type": "stream",
     "text": [
      "WARNING:tensorflow:From C:\\Users\\ericp\\anaconda3\\lib\\site-packages\\tensorflow\\python\\ops\\math_grad.py:1250: add_dispatch_support.<locals>.wrapper (from tensorflow.python.ops.array_ops) is deprecated and will be removed in a future version.\n",
      "Instructions for updating:\n",
      "Use tf.where in 2.0, which has the same broadcast rule as np.where\n",
      "WARNING:tensorflow:From C:\\Users\\ericp\\anaconda3\\lib\\site-packages\\keras\\backend\\tensorflow_backend.py:422: The name tf.global_variables is deprecated. Please use tf.compat.v1.global_variables instead.\n",
      "\n"
     ]
    }
   ],
   "source": [
    "# Search Hyperparameter Space\n",
    "\n",
    "num_avg = 3\n",
    "history_list = []\n",
    "model_list = []\n",
    "\n",
    "for i in range(len(param_grid)):\n",
    "    accuracy = []\n",
    "    history_temp = []\n",
    "    model_temp = []\n",
    "    for j in range(num_avg):\n",
    "        x_train, x_val, y_train, y_val = train_test_split(X_scaled, y, test_size=0.40)\n",
    "        x_val, x_test, y_val, y_test = train_test_split(x_val, y_val, test_size=0.50)\n",
    "\n",
    "        history, model = DNN_model(x_train, y_train, x_val, y_val, param_grid[i])\n",
    "        history_temp.append(history)\n",
    "        model_temp.append(model)\n",
    "        \n",
    "        #convert y_test to binary classifier\n",
    "        testy = np.argmax(y_test, axis=-1)\n",
    "                                   \n",
    "        # predict probabilities for test set\n",
    "        yhat_probs = model.predict(x_test, verbose=0)\n",
    "                                   \n",
    "        # predict crisp classes for test set\n",
    "        yhat_classes = model.predict_classes(x_test, verbose=0)\n",
    "                                   \n",
    "        # accuracy: (tp + tn) / (p + n)\n",
    "        accuracy.append(accuracy_score(testy, yhat_classes))\n",
    "\n",
    "    acc_array = np.array(accuracy)\n",
    "    best_index = np.argwhere(acc_array == np.max(acc_array))[0][0]\n",
    "    model_list.append(model_temp[best_index])\n",
    "    history_list.append(history_temp[best_index])\n",
    "    \n",
    "    acc_array = np.array(accuracy)\n",
    "    param_grid[i]['accuracy'] = np.mean(accuracy)\n",
    "    param_grid[i]['std'] = np.std(accuracy)\n",
    "\n",
    "\n",
    "tune_df = pd.DataFrame(param_grid)\n",
    "tune_df.to_csv('hyperparameter_tuning_results.csv',index = False)\n"
   ]
  },
  {
   "cell_type": "code",
   "execution_count": 31,
   "metadata": {},
   "outputs": [
    {
     "data": {
      "image/png": "[encoded data removed]",
      "text/plain": [
       "<Figure size 576x288 with 2 Axes>"
      ]
     },
     "metadata": {
      "needs_background": "light"
     },
     "output_type": "display_data"
    }
   ],
   "source": [
    "# View Tuned Model and History\n",
    "\n",
    "# Find optimal hyperparamters\n",
    "index = tune_df[tune_df['accuracy'] == max(tune_df['accuracy'])].index[0] \n",
    "model = model_list[index]\n",
    "history = history_list[index]\n",
    "\n",
    "fig, ax = plt.subplots(figsize = (8,4))\n",
    "\n",
    "# plot loss during training\n",
    "plt.subplot(121)\n",
    "plt.plot(history.history['loss'], label='Train')\n",
    "plt.plot(history.history['val_loss'], label='Validation')\n",
    "plt.xlabel('Epoch')\n",
    "plt.ylabel('Loss')\n",
    "plt.legend()\n",
    "\n",
    "# plot accuracy during training\n",
    "plt.subplot(122)\n",
    "plt.plot(np.array(history.history['accuracy'])*100, label='Training')\n",
    "plt.plot(np.array(history.history['val_accuracy'])*100, label='Validation')\n",
    "plt.xlabel('Epoch')\n",
    "plt.ylabel('Accuracy (%)')\n",
    "plt.legend()\n",
    "plt.tight_layout()\n",
    "\n",
    "plt.savefig(\"training_loss_acc.tif\", format=\"tif\",bbox_inches='tight')"
   ]
  },
  {
   "cell_type": "code",
   "execution_count": 30,
   "metadata": {},
   "outputs": [
    {
     "data": {
      "text/plain": [
       "1"
      ]
     },
     "execution_count": 30,
     "metadata": {},
     "output_type": "execute_result"
    }
   ],
   "source": [
    "tune_df[tune_df['accuracy'] == max(tune_df['accuracy'])].index[0]"
   ]
  },
  {
   "cell_type": "code",
   "execution_count": null,
   "metadata": {},
   "outputs": [],
   "source": []
  }
 ],
 "metadata": {
  "kernelspec": {
   "display_name": "Python 3",
   "language": "python",
   "name": "python3"
  },
  "language_info": {
   "codemirror_mode": {
    "name": "ipython",
    "version": 3
   },
   "file_extension": ".py",
   "mimetype": "text/x-python",
   "name": "python",
   "nbconvert_exporter": "python",
   "pygments_lexer": "ipython3",
   "version": "3.7.9"
  }
 },
 "nbformat": 4,
 "nbformat_minor": 4
}
